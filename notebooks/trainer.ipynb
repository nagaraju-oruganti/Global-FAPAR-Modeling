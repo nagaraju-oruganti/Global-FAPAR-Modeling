{
 "cells": [
  {
   "cell_type": "code",
   "execution_count": 1,
   "metadata": {},
   "outputs": [],
   "source": [
    "import pandas as pd\n",
    "import numpy as np\n",
    "import matplotlib.pyplot as plt\n",
    "import seaborn as sns\n",
    "import warnings\n",
    "warnings.filterwarnings('ignore')\n",
    "\n",
    "sns.set_style('whitegrid')\n",
    "sns.set_palette('icefire')"
   ]
  },
  {
   "cell_type": "code",
   "execution_count": 51,
   "metadata": {},
   "outputs": [],
   "source": [
    "from sklearn.metrics import median_absolute_error as mae\n",
    "from sklearn.linear_model import LinearRegression\n",
    "from sklearn.tree import DecisionTreeRegressor\n",
    "from sklearn.ensemble import RandomForestRegressor"
   ]
  },
  {
   "cell_type": "code",
   "execution_count": 53,
   "metadata": {},
   "outputs": [
    {
     "name": "stdout",
     "output_type": "stream",
     "text": [
      "Median prediction error for fold 1: 0.013857820266665155\n",
      "Median prediction error for fold 2: 0.013407166884524202\n",
      "Median prediction error for fold 3: 0.014184889806142811\n",
      "Median prediction error for fold 4: 0.014520395654047268\n",
      "Median prediction error for fold 5: 0.016080835797980864\n",
      "Median prediction error for fold 6: 0.005385521120716136\n"
     ]
    }
   ],
   "source": [
    "for fold in [1, 2, 3, 4, 5, 6]:\n",
    "    df = pd.read_csv('../inputs/fe/train.csv', index_col = 0)\n",
    "    rm_cols = ['sample_id', 'kfold']\n",
    "    train = df[df['kfold'] != fold]\n",
    "    valid = df[df['kfold'] == min(fold, 5)]\n",
    "\n",
    "    train.drop(columns = rm_cols, inplace = True)\n",
    "    valid.drop(columns = rm_cols, inplace = True)\n",
    "\n",
    "    X_train, y_train = train.drop(columns = ['fapar']).values, train['fapar'].values\n",
    "    X_test , y_test  = valid.drop (columns = ['fapar']).values, valid['fapar'].values\n",
    "\n",
    "    model = RandomForestRegressor(n_estimators=100,criterion = 'absolute_error')\n",
    "    model.fit(X_train, y_train)\n",
    "    y_pred = model.predict(X_test)\n",
    "\n",
    "    print(f'Median prediction error for fold {fold}: {mae(y_test, y_pred)}')"
   ]
  },
  {
   "cell_type": "code",
   "execution_count": 54,
   "metadata": {},
   "outputs": [],
   "source": [
    "test = pd.read_csv('../inputs/fe/test.csv', index_col = 0)\n",
    "test.drop(columns = ['sample_id'], inplace = True)\n",
    "X_test = test.values\n",
    "y_pred = model.predict(X_test)"
   ]
  },
  {
   "cell_type": "code",
   "execution_count": 55,
   "metadata": {},
   "outputs": [],
   "source": [
    "submission = pd.read_csv('../inputs/data/sample_submission.csv')\n",
    "submission['fapar'] = y_pred\n",
    "submission.to_csv('../models/sub1.csv', index = False)"
   ]
  },
  {
   "cell_type": "code",
   "execution_count": null,
   "metadata": {},
   "outputs": [],
   "source": []
  },
  {
   "cell_type": "code",
   "execution_count": null,
   "metadata": {},
   "outputs": [],
   "source": []
  }
 ],
 "metadata": {
  "kernelspec": {
   "display_name": "base",
   "language": "python",
   "name": "python3"
  },
  "language_info": {
   "codemirror_mode": {
    "name": "ipython",
    "version": 3
   },
   "file_extension": ".py",
   "mimetype": "text/x-python",
   "name": "python",
   "nbconvert_exporter": "python",
   "pygments_lexer": "ipython3",
   "version": "3.10.9"
  },
  "orig_nbformat": 4
 },
 "nbformat": 4,
 "nbformat_minor": 2
}
